{
 "cells": [
  {
   "cell_type": "code",
   "execution_count": 1,
   "metadata": {},
   "outputs": [
    {
     "name": "stdout",
     "output_type": "stream",
     "text": [
      "2022-01-21 18:12:53.397808 , pH: 6.57\n",
      "2022-01-21 18:12:56.498008 , pH: 6.55\n",
      "2022-01-21 18:12:59.596208 , pH: 6.56\n",
      "2022-01-21 18:13:02.707408 , pH: 6.54\n",
      "2022-01-21 18:13:05.800008 , pH: 6.54\n",
      "2022-01-21 18:13:08.911208 , pH: 6.51\n",
      "2022-01-21 18:13:12.016608 , pH: 6.58\n",
      "2022-01-21 18:13:15.114609 , pH: 6.57\n",
      "2022-01-21 18:13:18.216009 , pH: 6.58\n",
      "2022-01-21 18:13:21.327409 , pH: 6.60\n",
      "2022-01-21 18:13:24.421409 , pH: 6.56\n",
      "2022-01-21 18:13:27.530609 , pH: 6.56\n"
     ]
    }
   ],
   "source": [
    "import serial\n",
    "import time\n",
    "import csv\n",
    "import datetime\n",
    "import re\n",
    "\n",
    "# set up the serial line\n",
    "ser = serial.Serial('COM10', 9600)\n",
    "#time.sleep(3)\n",
    "\n",
    "# Read and record the data\n",
    "pH_Data = []                       # empty list to store the data\n",
    "timeData = []\n",
    "\n",
    "'''txt = \"hello, my name is Peter, I am 26 years old\"\n",
    "x = txt.split(\", \")\n",
    "print(x)'''\n",
    "\n",
    "for i in range(12):\n",
    "    b = ser.readline()         # read a byte string\n",
    "    string_n = b.decode()  # decode byte string into Unicode  \n",
    "    string = string_n.rstrip() # remove \\n and \\r\n",
    "    #flt = float(string)        # convert string to float\n",
    "    flt = string\n",
    "    \n",
    "    print(datetime.datetime.now(),',',flt)\n",
    "    #print(flt)\n",
    "    \n",
    "    #print(datetime.datetime.now())\n",
    "    #pH_Data.append(flt.split(\",\"))           # add to the end of data list\n",
    "    pH_Data.append(re.findall(r\"[-+]?\\d*\\.\\d+|\\d+\", flt))\n",
    "    timeData.append(datetime.datetime.now())\n",
    "    time.sleep(0.1)            # wait (sleep) 0.1 seconds\n",
    "\n",
    "ser.close()\n",
    "\n",
    "\n",
    "header = ['Time', 'pH']\n",
    "\n",
    "with open('pH Log.csv', 'w', encoding='UTF8', newline='') as f:\n",
    "    writer = csv.writer(f)\n",
    "\n",
    "    # write the header\n",
    "    writer.writerow(header)\n",
    "\n",
    "    # write multiple rows vertically\n",
    "    #Measures for 4 hours, 480 * 0.5 min = 240 mins = 4 hours\n",
    "    for i in range(12):\n",
    "        #writer.writerow([timeData[i], pH_Data[i][1])\n",
    "        writer.writerow([timeData[i]] + pH_Data[i])"
   ]
  },
  {
   "cell_type": "code",
   "execution_count": null,
   "metadata": {},
   "outputs": [],
   "source": []
  }
 ],
 "metadata": {
  "kernelspec": {
   "display_name": "Python 3",
   "language": "python",
   "name": "python3"
  },
  "language_info": {
   "codemirror_mode": {
    "name": "ipython",
    "version": 3
   },
   "file_extension": ".py",
   "mimetype": "text/x-python",
   "name": "python",
   "nbconvert_exporter": "python",
   "pygments_lexer": "ipython3",
   "version": "3.7.0"
  }
 },
 "nbformat": 4,
 "nbformat_minor": 5
}
