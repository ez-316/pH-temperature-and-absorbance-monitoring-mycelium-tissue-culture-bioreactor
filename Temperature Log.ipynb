{
 "cells": [
  {
   "cell_type": "code",
   "execution_count": null,
   "metadata": {},
   "outputs": [],
   "source": [
    "import serial\n",
    "import time\n",
    "import csv\n",
    "import datetime\n",
    "\n",
    "# set up the serial line\n",
    "ser = serial.Serial('COM9', 9600)\n",
    "#time.sleep(3)\n",
    "\n",
    "# Read and record the data\n",
    "tempData = []                       # empty list to store the data\n",
    "ODData = []\n",
    "timeData = []\n",
    "\n",
    "'''txt = \"hello, my name is Peter, I am 26 years old\"\n",
    "x = txt.split(\", \")\n",
    "print(x)'''\n",
    "\n",
    "for i in range(240):\n",
    "    b = ser.readline()         # read a byte string\n",
    "    string_n = b.decode()  # decode byte string into Unicode  \n",
    "    string = string_n.rstrip() # remove \\n and \\r\n",
    "    #flt = float(string)        # convert string to float\n",
    "    flt = string\n",
    "    print(datetime.datetime.now(),',',flt)\n",
    "    #print(flt)\n",
    "    \n",
    "    #print(datetime.datetime.now())\n",
    "    tempData.append(flt.split(\",\"))           # add to the end of data list\n",
    "    ODData.append(flt.split(\",\"))\n",
    "    timeData.append(datetime.datetime.now())\n",
    "    time.sleep(0.1)            # wait (sleep) 0.1 seconds\n",
    "\n",
    "ser.close()\n",
    "\n",
    "\n",
    "header = ['Time', 'Temperature' , 'OD']\n",
    "\n",
    "with open('Temperature Log.csv', 'w', encoding='UTF8', newline='') as f:\n",
    "    writer = csv.writer(f)\n",
    "\n",
    "    # write the header\n",
    "    writer.writerow(header)\n",
    "\n",
    "    # write multiple rows vertically\n",
    "    #Measures for 4 hours, 240 * 1 min = 240 mins\n",
    "    for i in range(240):\n",
    "        writer.writerow([timeData[i], tempData[i][1], ODData[i][0]])"
   ]
  },
  {
   "cell_type": "code",
   "execution_count": null,
   "metadata": {},
   "outputs": [],
   "source": []
  }
 ],
 "metadata": {
  "kernelspec": {
   "display_name": "Python 3",
   "language": "python",
   "name": "python3"
  },
  "language_info": {
   "codemirror_mode": {
    "name": "ipython",
    "version": 3
   },
   "file_extension": ".py",
   "mimetype": "text/x-python",
   "name": "python",
   "nbconvert_exporter": "python",
   "pygments_lexer": "ipython3",
   "version": "3.7.0"
  }
 },
 "nbformat": 4,
 "nbformat_minor": 5
}
